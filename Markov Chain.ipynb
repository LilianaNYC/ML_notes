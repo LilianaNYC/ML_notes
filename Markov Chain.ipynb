{
 "cells": [
  {
   "cell_type": "markdown",
   "metadata": {},
   "source": [
    "<h1>Markov Chain</h1>\n",
    "<ul>\n",
    "    <li>Statistic model describing a sequence of possible events in which the probability of each event depends \n",
    "        on the state attained in the previous events</li>\n",
    "    <li>Sequential events that are probability related to each other</li>\n",
    "    <li>Events known as states</li>\n",
    "    <li>it has a memoryless property</li>\n",
    "    <li>the next state depends on the present state</li>\n",
    "    <li>final_state = initial_state * transition_matrix\n"
   ]
  },
  {
   "cell_type": "markdown",
   "metadata": {},
   "source": [
    "<h1>Monte Carlo Method</h1>\n",
    "<ul>\n",
    "    <li>The Monte Carlo method is a computational technique used to simulate and approximate the outcomes of \n",
    "        complex systems or processes through repeated random sampling. It involves using random numbers to \n",
    "        generate a large number of possible outcomes and then analyzing the results statistically to estimate the \n",
    "        behavior of the system.</li>\n",
    "    "
   ]
  },
  {
   "cell_type": "code",
   "execution_count": null,
   "metadata": {},
   "outputs": [],
   "source": []
  },
  {
   "cell_type": "code",
   "execution_count": null,
   "metadata": {},
   "outputs": [],
   "source": []
  },
  {
   "cell_type": "code",
   "execution_count": null,
   "metadata": {},
   "outputs": [],
   "source": []
  },
  {
   "cell_type": "code",
   "execution_count": null,
   "metadata": {},
   "outputs": [],
   "source": []
  }
 ],
 "metadata": {
  "kernelspec": {
   "display_name": "Python3",
   "language": "python",
   "name": "python3"
  },
  "language_info": {
   "codemirror_mode": {
    "name": "ipython",
    "version": 3
   },
   "file_extension": ".py",
   "mimetype": "text/x-python",
   "name": "python",
   "nbconvert_exporter": "python",
   "pygments_lexer": "ipython3",
   "version": "3.7.4"
  }
 },
 "nbformat": 4,
 "nbformat_minor": 2
}
