{
 "cells": [
  {
   "cell_type": "markdown",
   "metadata": {},
   "source": [
    "<b>Parametric Models:</b> makes assumptions about the distriution of the data</p>\n",
    "<li>linear regression</li>\n",
    "<li>logistic regression</li>\n",
    "<li>linear discriminanr analysis (LDA)</li>\n",
    "<li>quadratic discriminant analysis (QDA)</li>\n",
    "<li>generalize linear models (GLM)</li>\n",
    "<li>naive bayes classifier (gaussian/bernoulli/multinomial)</li>\n",
    "<li>perceptron</li>\n",
    "<li>ridge regression</li>\n",
    "<li>lasso regression</li>\n",
    "<li>elastic net regression</li>\n",
    "<li>principal component analysis(PCA)</li>\n",
    "<li>canonial correlation analysis (CCA)</li>\n",
    "<li>partial least squares (PLS)</li>\n",
    "<li>linear support vector machines (SVM) with linear kernel</li>\n",
    "\n",
    "<b>Non Parametric Models:</b> makes no assuption on the distribution of the data\n",
    "<li>tree based: decision trees, random forest</li>\n",
    "<li>K-nearest neighbors (KNN)</li>\n",
    "<li>support vector machines (SVM) with non linear kernel</li>\n",
    "<li>neural networks (with no linear activation functions)</li>\n",
    "<li>gradient boosting machines</li>\n",
    "<li>naive bayes (in some cases)</li>\n",
    "<li>esemble models using non-parametric base learners (ex. Adaboost with decision trees)</li>\n",
    "\n",
    "<b>Probabilistic Models:</b> probability distributions defined on data\n",
    "<li>bayes classifier</li>\n",
    "<li>logistic regression</li>\n",
    "<li>least square and ridge regression (using maximum likelihood (ML), MAP interpretation</li>\n",
    "<li>bayesian linear regression</li>\n",
    "\n",
    "<b>Non-Probabilistic Models:</b> no probability distributions involved\n",
    "<li>perceptron</li>\n",
    "<li>support vector machine</li>\n",
    "<li>decison trees</li>\n",
    "<li>k means</li>\n",
    "\n"
   ]
  },
  {
   "cell_type": "markdown",
   "metadata": {},
   "source": [
    "<li>In every case, we have some objective function we are trying to optimize (greedily vs non greedy, locally vs \n",
    "    globally</li>"
   ]
  },
  {
   "cell_type": "markdown",
   "metadata": {},
   "source": []
  },
  {
   "cell_type": "code",
   "execution_count": null,
   "metadata": {},
   "outputs": [],
   "source": []
  }
 ],
 "metadata": {
  "kernelspec": {
   "display_name": "Python3",
   "language": "python",
   "name": "python3"
  },
  "language_info": {
   "codemirror_mode": {
    "name": "ipython",
    "version": 3
   },
   "file_extension": ".py",
   "mimetype": "text/x-python",
   "name": "python",
   "nbconvert_exporter": "python",
   "pygments_lexer": "ipython3",
   "version": "3.7.4"
  }
 },
 "nbformat": 4,
 "nbformat_minor": 2
}
