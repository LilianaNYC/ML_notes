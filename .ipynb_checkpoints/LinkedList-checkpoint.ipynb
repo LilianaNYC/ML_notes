{
 "cells": [
  {
   "cell_type": "code",
   "execution_count": 21,
   "metadata": {},
   "outputs": [
    {
     "name": "stdout",
     "output_type": "stream",
     "text": [
      "The autoreload extension is already loaded. To reload it, use:\n",
      "  %reload_ext autoreload\n"
     ]
    }
   ],
   "source": [
    "%load_ext autoreload\n",
    "%autoreload 2"
   ]
  },
  {
   "cell_type": "code",
   "execution_count": 22,
   "metadata": {},
   "outputs": [],
   "source": [
    "import singular_link_list as sll"
   ]
  },
  {
   "cell_type": "code",
   "execution_count": 23,
   "metadata": {},
   "outputs": [
    {
     "name": "stdout",
     "output_type": "stream",
     "text": [
      "Created linked list is: \n",
      "2->3->4->5->6->\n",
      "After inserting 1 after 2: \n",
      "2->1->3->4->5->6->\n",
      "No, 14 doesn't exists\n"
     ]
    }
   ],
   "source": [
    "llist = sll.LinkedList() # calls __init__ and creates \n",
    "\n",
    "llist.push(6)\n",
    "llist.push(5)\n",
    "llist.push(4)\n",
    "llist.push(3)\n",
    "llist.push(2)\n",
    "\n",
    "print(\"Created linked list is: \")\n",
    "llist.display()\n",
    "\n",
    "# Insert 1, after 2.\n",
    "llist.insert_after(llist.head, 1)\n",
    "\n",
    "print(\"\\nAfter inserting 1 after 2: \")\n",
    "llist.display()\n",
    "\n",
    "llist.search(14)"
   ]
  },
  {
   "cell_type": "code",
   "execution_count": 30,
   "metadata": {},
   "outputs": [
    {
     "name": "stdout",
     "output_type": "stream",
     "text": [
      "10->11->12->\n",
      "\n",
      "10->11->12->\n",
      "prevX:10, currX:11\n",
      "\n",
      "prevY:11, currY:12\n",
      "10->12->11->"
     ]
    }
   ],
   "source": [
    "llist = sll.LinkedList() # calls __init__ and creates \n",
    "llist.append(10)\n",
    "llist.append(11)\n",
    "llist.append(12)\n",
    "\n",
    "llist.display()\n",
    "print(\"\\n\")\n",
    "\n",
    "\n",
    "#llist.remove_at(0)\n",
    "llist.display()\n",
    "#print(llist.get(0))\n",
    "llist.swap(11,12)\n",
    "llist.display()"
   ]
  },
  {
   "cell_type": "code",
   "execution_count": null,
   "metadata": {},
   "outputs": [],
   "source": []
  },
  {
   "cell_type": "markdown",
   "metadata": {},
   "source": []
  },
  {
   "cell_type": "code",
   "execution_count": null,
   "metadata": {},
   "outputs": [],
   "source": []
  },
  {
   "cell_type": "code",
   "execution_count": null,
   "metadata": {},
   "outputs": [],
   "source": []
  }
 ],
 "metadata": {
  "kernelspec": {
   "display_name": "Python3",
   "language": "python",
   "name": "python3"
  },
  "language_info": {
   "codemirror_mode": {
    "name": "ipython",
    "version": 3
   },
   "file_extension": ".py",
   "mimetype": "text/x-python",
   "name": "python",
   "nbconvert_exporter": "python",
   "pygments_lexer": "ipython3",
   "version": "3.7.4"
  }
 },
 "nbformat": 4,
 "nbformat_minor": 2
}
