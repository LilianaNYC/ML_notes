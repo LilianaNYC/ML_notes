{
 "cells": [
  {
   "cell_type": "code",
   "execution_count": null,
   "metadata": {},
   "outputs": [],
   "source": []
  },
  {
   "cell_type": "markdown",
   "metadata": {},
   "source": [
    "### Hypothesis testing and AB testing \n",
    "- **Two Possible Hypothesis**\n",
    "    - Null hypothesis ($H_{0}$): negative result to a test (e.g. A=B no difference)\n",
    "    - Alternative hypothesis ($H_{1}$: positive result to a test (e.g. A"
   ]
  },
  {
   "cell_type": "code",
   "execution_count": null,
   "metadata": {},
   "outputs": [],
   "source": []
  },
  {
   "cell_type": "code",
   "execution_count": null,
   "metadata": {},
   "outputs": [],
   "source": []
  },
  {
   "cell_type": "markdown",
   "metadata": {},
   "source": [
    "### T-test\n",
    "- **Assumptions**: The t-test assumes that the data follows a normal distribution, the variances of the groups being compared are equal (in the case of independent samples), and the observations are independent.\n",
    "- **Limitations**: The t-test relies on assumptions regarding the data distribution and homogeneity of variances.\n",
    "- T-statistic: the coefficient for a predictor, divided by the standard error of the coefficient, given a metric to compare the importance of variables in the model. It is used to compare the means of two groups of data\n",
    "- T-distribution: It is similar in shape to the standard normal distribution (bell-shaped), but it has thicker tails, which means it allows for more variability in the data\n",
    "- A low t statistic is NOT significant\n",
    "- Population std is unknown\n",
    "- Useful to test samples with size less than 30 (for 30+ T-distibrution is indistibuishable with normal distribution)\n",
    "- Compares the means of two groups (it can be used insread of a permutation test)\n",
    "- Used to compare means between two groups and determine if there is a significant difference. It is often used when the sample sizes are small and the data are approximately normally distributed."
   ]
  },
  {
   "cell_type": "markdown",
   "metadata": {},
   "source": [
    "### F-test\n",
    "- F-statistic: it is used in linear regression to compare the variation accounted for by the regression model to the overall variation in the data.\n",
    "    - It is based on the ratio of the variance across group means to the variance due to residual error. The higher the ratio, the more statistically significant the result."
   ]
  },
  {
   "cell_type": "markdown",
   "metadata": {},
   "source": [
    "### Fisher's Exact-test\n",
    "- When counts are extremely low the resampling procedure will yield more accurate p-values\n",
    "- used to determine the significance of the association between two categorical variables in a 2x2 contingency table. It is typically employed when the sample sizes are small or when expected cell counts are low."
   ]
  },
  {
   "cell_type": "markdown",
   "metadata": {},
   "source": [
    "### Other tests\n",
    "- Mann-Whitney U test: A non-parametric test used to compare the medians of two independent groups when the data are not normally distributed.\n",
    "- Kruskal-Wallis test: A non-parametric test used to compare the medians among three or more independent groups when the data are not normally distributed.\n",
    "- Wilcoxon signed-rank test: A non-parametric test used to compare two related groups when the data are not  normally distributed."
   ]
  },
  {
   "cell_type": "markdown",
   "metadata": {},
   "source": [
    "### ChiSquare (&chi;²)-test\n",
    "- It can be usedin feature selection\n",
    "- Used to determine whether there is a significant association between two categorical variables\n",
    "- It compares the observed frequencies of the data with the frequencies that would be expected if the variables were independent\n",
    "- Works better with large samples and the observations must be independent\n",
    "- **Assumptions**: linear relationships between the variables\n",
    "- &chi;² distribution: measures the extent to which results depart from the null expectation of independence\n",
    "- &chi;² goodness-of-fit test: compares the observed frequencies in different categories with the expected frequencies under the null hypothesis. The test calculates a test statistic (chi-square statistic) and compares it to the critical value from the chi-square distribution to determine if the observed data significantly deviates from the expected distribution.\n",
    "    - A low &chi;² value indicates that they closely follow the expected distribution\n",
    "    - A high &chi;² value indicates they differ moderetly from what is expected\n",
    "    - it is primarely used to examine whether two categorical variables are independent in influencing the test statistic\n",
    "    - Used to examine the association between categorical variables. It determines if there is a significant difference between the observed and expected frequencies (using row * columns contigency tables)"
   ]
  },
  {
   "cell_type": "markdown",
   "metadata": {},
   "source": [
    "### Permutation-test\n",
    "- **Assumptions**: The permutation test is a non-parametric test that does not make any assumptions about the underlying data distribution. It is based on the concept of randomly permuting the observed data to create a null distribution under the null hypothesis.\n",
    "- **Limitations**: The permutation test can be computationally intensive, especially for large datasets or complex study designs. It also requires careful consideration of the permutation scheme and may not be as straightforward to implement as the t-test."
   ]
  },
  {
   "cell_type": "markdown",
   "metadata": {},
   "source": [
    "### Multi-arm Bandit Test\n",
    "\n",
    "In a traditional A/B test, the traffic is evenly split between two or more variations, and the performance of each variation is compared to determine the best-performing option. However, this approach can be suboptimal in situations where there is uncertainty about the performance of different variations or if the goal is to maximize the overall reward or outcome.\n",
    "\n",
    "A multi-arm bandit test addresses this challenge by dynamically adjusting the traffic allocation to the different variations based on real-time feedback during the test. The test starts with an initial allocation of traffic and gradually adapts it based on the observed performance of each variation.\n"
   ]
  },
  {
   "cell_type": "markdown",
   "metadata": {},
   "source": [
    "- Continuous distributions: for continuous variables, t, p(t) cannot be interpreted as probability, the  height of the curve of a particular value of t can be interpreted as how likely it is that we would observe that particular t\n",
    "- Goodness of fit: is a statistical concept that measures how well an observed data set fits a theoretical or expected distribution. In a goodness-of-fit test, the null hypothesis assumes that the observed data conforms to the expected distribution. The alternative hypothesis suggests that there is a significant difference between the observed data and the expected distribution.\n",
    "- Poisson distribution: model events per time period (events that occur at a constant rate).\n",
    "- Bernoulli distribution: two possible outcomes\n",
    "- Binomial distribution: is the frequency distribution of the number of successes (x) in a given number of trials (n) with specified probability (p) of sucess in each trial (events (N) that have two outcomes\n",
    "- Exponential distribution: frequency distribution of the time or distance from one event to the next\n",
    "- Weibull distribution: a generalized version of the exponential distribution in which the event rate is allowed to shift over time. A changing event rate over time (an increasing probability of device failure)\n",
    "- Uniform distribution: all the n number of possible outcomes are equally likely\n",
    "\n",
    "- The beta density function: it can be used for continuous variables that are restricted to between 0 and 1 (&alpha; and &beta; are parameters to control the shape of the density function and must be positive)\n",
    "- The Gaussian density function: it is used in many applications and one reason is the case with which the gaussian pdf can be manipulated\n",
    "- The effect of adding random variables to the model is that the output of the model, t, is now itself a random variable. In other words, there is no single value of $t_n$ for a particular $x_n$. As such, we cannot use the loss as means of optimizing W and $\\sigma^2$\n",
    "- **Framework for hypothesis test**\n",
    "    - State clear what your variables are\n",
    "    - State the null and alternative hypothesis\n",
    "    - Decide upon a level of significant $\\alpha$;\n",
    "    - Compute a test statistic (Z, T, $\\chi^2$, and F test)\n",
    "    - Find the P value corresponding to your test statistic (left, right, or two tailed)\n",
    "    - Form a conclusion: if $p<\\alpha$ reject the null hypothesis \n",
    "- **Assumptions**\n",
    "    - Minimum sample size (N)- is the sample size big enough?\n",
    "    - Normality - does your data follows a normal distribution \n",
    "    - Linearity - consistant relationship between the independent variable and the dependent variable\n",
    "    - Homogeneity of variance: similar levels of variance for all variable groups\n",
    "- **Notes**\n",
    "    - R^2: it is a good indicator of how well the dataset is fitting the model.\n",
    "    - Variance: high variance -> further away from the mean. When dealing with vectors the concept of variance is generalized to a covariance matrix\n",
    "    - Covariance: diagonal elements correspond to the variance of the individual elements of x. The off diagonal elements tells us to what extend different element of x co-vary (how dependent they are on one another)\n",
    "        - linear relationship between two variables\n",
    "        - the magnitude does NOT signify the strength of their relationships so only matters the sign, whether it is positive or negative which tells the relationship \n",
    "- Correlation: measures the relationship between two variables as well as its magnitude defined the strength between variables\n",
    "- Pearson correlation: measures linear relationship and fails to capture non-linear relationship\n",
    "- Spearman's Rank correlation: used for ordinal or continuous variables. Also, assess the strength and direction of the monotonic relationship between two variables.It is robust to outliers and can capture associations that may not be detected by Pearson correlation.\n",
    "- Kendall Rank correlation: used for ordinal or continuous variables. Also, assess the strength and direction of the monotonic relationship between two variables. It does not assume linearity or normality in the data.\n",
    "- Point Biserial correlation: one variable binary, one variable continuous. It captures both linear and non linear relationships\n",
    "- Residuals/errors: difference between observed values and estimates\n",
    "- Standard deviation (STD): describe how spreadout the values are. A low std means that the  number most numbers are close to the mean while high std means the values are spreadout over a wide range\n",
    "- Mean absolute deviation (MAD): more robust to outliers\n",
    "- Bias types\n",
    "    - Sample bias: a sample that misrepresents the population\n",
    "    - Bias: systematic error\n",
    "    - Selection bias:  selectively choosing data\n",
    "- deterministic process:  is a process where the outcome is entirely determined by the initial conditions and the rules that govern evolution of the system\n",
    "- Stochastic process: it involves some degree of randomness and uncertainity in the outcome\n",
    "- Covariance: measures the linear dependence between two random variables\n",
    "    - Auto-Covariance (ACF):\n",
    "        - Is a measure of linear dependence between two observations of a ts that are separated by specific lag COV($x_t$, $x_{t-k}$)\n",
    "        - Is a useful measure in ts analysis as it provides information about the dependence structure of the series over time\n",
    "- Auto-correlation: measures the overall correlation between a ts and its past values up to lag K and helps identify the order of AR(p) model\n",
    "- Partial-Auto-correlation: measures the correlation between a ts and its past values at lag K after accounting (controlling) for the effects of intermediate lags\n",
    "- non-stationary to stationary by geting the difference at each point\n",
    "- stationary: variance and mean remain constant over time\n",
    "- non-stationary: it has statistical properties that change over time such a trend, seasonality, or a change in variance\n",
    "- Weak Stationarity: A time series is considered weakly stationary if its mean, variance, and autocovariance structure do not depend on time. In other words, the mean and variance of the series remain constant over time, and the autocovariance between any two observations depends only on the time lag between them. Weak stationarity allows for trends and seasonality in the data, as long as they are predictable and do not cause the statistical properties to change systematically\n",
    "- Null hypothesis: it means that nothing is different. The confidence intervals would overlap because we are sampling to approximate the same value\n",
    "- Alpha: the probability threshold of \"unusualness\" that chance results must surpass for actual outcomes to be deemmed statistically significant.\n",
    "- P-value:\n",
    "    - Is the likelihood of seeing data this extreme under the null hypothesis\n",
    "    - the probability that, given a chance model, results as extremes as the oserved results could occur\n",
    "    - given a chance model that embodies the null hypothesis, the p-value is the probability of obtaining results as unsual or extreme as the oserved results.\n",
    "    - ex. the p-value is 0.308, which means that we would expect to achieve a result as extreme as this, or more extreme result, by random chance over 30% of chance\n",
    "- Type I Error (False Positive): It is rejecting a true null hypothesis. In other words, concluding there is a significant effect or difference between groups when in fact there is none (mistakenly concluding an effect is real when it is due to chance)\n",
    "    - Causes: small sample size, inadecuate study design, bias sampling, cofounding variables, \n",
    "                    measurement errors</li>\n",
    "- Type II Error (False Negative): the result of your analysis says that there is no difference between the groups when there actually is a difference (mistakenly concluding an effect is due to chance when it is real) \n",
    "    - Causes: large sample size, small effect size (small differences may be statistically significant) \n",
    "- AIC: It can help assess the goodness of fit\n",
    "- BIC: It can help assess the goodness of fit\n",
    "- Causality:Ability to establish a causal link between two variables. It explores the idea that changes in one variable directly influences changes in another variable. In order to establish causality, there are three key criteria that need to be met:\n",
    "    1. Association: there must be a statistically significant association or correlation\n",
    "    2. Temporal order: changes in the cause variable must happen before changes in the effect variable\n",
    "    3. Absence of confounding factors: confounding variables shouldn't be driving the observed relationship between the cause and effect variables. Controlling for confounding factors help ensure that any observed relationships is not spourious or coincidential\n",
    "- Confounding variables: are factors that can affect the outcome of a study or experiment and create a false association between the variables being studied. These variables are often not the main focus of the study but can still influence the observed relationship between the independent variable and the dependent variable. Confounding variables can lead to incorrect or misleading conclusions if not properly accounted for in the analysis\n",
    "    - to address confounding variables use various techniques such as randomization, matching, stratification, and statistical modeling to control or adjust for their effects.\n",
    "- Anova:\n",
    "    - It is based on F-statistic\n",
    "    - It is a statistical procedure for analyzing the results of an experiment with multiple groups\n",
    "    - it is the extension of similar procedures for the A/B test, used to assess whether the overall variation ammong groups is within the range of chance of variation\n",
    "    - A useful outcome of ANOVA is the identification of variance components associated with group treatments, interactions, effects, and errors\n",
    "    - Used to compare means among three or more groups. ANOVA determines if there are significant differences between the means of the groups.\n",
    "- Practical Sampling\n",
    "    - Probability Sampling: randomize sample selection (results that represent a whole population)\n",
    "    - Simple random sampling: everyone in the population has an equal chance of being selected, most random sampling, to be used with small populations\n",
    "    - Systematic sampling: used when you receive data in a series, select individual for a sample at a regular interval\n",
    "    - Stratified sampling: makes sure the proportions of the sample are the same as the population, used when it is important to collect data on smaller group as well as larger ones within a population.\n",
    "    - Cluster sampling: used when the population is divided into equal sub groups, can be used with other methods.\n",
    "    - Non-probability sampling: sample selection methods without randomization (poor representation of the population)\n",
    "- **Common distributions**\n",
    "    - Normal distribution: 1) mean, mode, median are all the same 2) the curve is symmetrical\n",
    "    - Uniform distribution: all values have equal chance of happening\n",
    "    - Poisson distribution: 1) it will tell you the probability of something happening based on the number of times that something else has happened 2) example, a sale based on how many people click on your ad banner\n",
    "    - Exponential distribution: 1) when a component of time is involved 2) example, how many minutes a person spends on a website compared to how likely they are to make a purchase \n",
    "- **Data shapes**\n",
    "    - Skew is simple when the distribution is learning one way or the other\n",
    "    - Negative skew (skewed left)\n",
    "    - Positive skew (skewed right)\n",
    "    - Normal (symmetrical unimodal)\n",
    "    - Transformations: 1) are ways in which you can try to normalize your data or remove skew 2) they can't fix kurtosis, in this case look for outliers \n",
    "- **Types of studies**\n",
    "    - Observational (taking no action to influence responses before hand)\n",
    "        - Simple surveys\n",
    "        - Count data\n",
    "        - Data mining\n",
    "    - Experimental studies (you change something and see if it influences the results)\n",
    "        - repeated measures (giving multiple times but you give something before)\n",
    "        - A/B testing (people are broken into two groups randomly and each group gets a different treatment)\n",
    "        - Randomized control trial (similar to A/B testing but one group gets the treatment and the other doesn't) \n",
    "            - Experimental Design Steps\n",
    "                1. Question\n",
    "                2. Hypothesis\n",
    "                3. Required variables (independent and dependent variable)\n",
    "                4. Choose a measurement approach\n",
    "                5. Select an analysis "
   ]
  },
  {
   "attachments": {
    "image.png": {
     "image/png": "[encoded data removed]"
    }
   },
   "cell_type": "markdown",
   "metadata": {},
   "source": [
    "![image.png](attachment:image.png)"
   ]
  },
  {
   "cell_type": "markdown",
   "metadata": {},
   "source": [
    "<h1>Hypothesis and A/B testing</h1>"
   ]
  },
  {
   "cell_type": "markdown",
   "metadata": {},
   "source": [
    "<li>Minimizing the squared loss function is equivalent to the maximum likelihood if the noise is assumed to be Gaussian</li>\n",
    "<li>&#x03C3;<sup>2</sup> is the variance of the noise incorporated into the model to capture effects that the deterministic part of the model cannot</li>"
   ]
  },
  {
   "cell_type": "code",
   "execution_count": null,
   "metadata": {},
   "outputs": [],
   "source": []
  }
 ],
 "metadata": {
  "kernelspec": {
   "display_name": "Python3",
   "language": "python",
   "name": "python3"
  },
  "language_info": {
   "codemirror_mode": {
    "name": "ipython",
    "version": 3
   },
   "file_extension": ".py",
   "mimetype": "text/x-python",
   "name": "python",
   "nbconvert_exporter": "python",
   "pygments_lexer": "ipython3",
   "version": "3.7.4"
  }
 },
 "nbformat": 4,
 "nbformat_minor": 2
}
