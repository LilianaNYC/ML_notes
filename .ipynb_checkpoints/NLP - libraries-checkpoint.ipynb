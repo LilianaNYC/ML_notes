{
 "cells": [
  {
   "cell_type": "markdown",
   "metadata": {},
   "source": [
    "There are several Python packages that are commonly used for Natural Language Processing (NLP) tasks. Here are some of the most popular ones, along with their main functionalities:\n",
    "\n",
    "**[NLTK (Natural Language Toolkit)](https://www.nltk.org/)**: it is one of the oldest and most widely used NLP libraries in Python. It provides tools for tokenization, stemming, lemmatization, part-of-speech tagging, syntactic parsing, and more.\n",
    "\n",
    "**[spaCy](https://spacy.io/)**: it is a modern NLP library that is designed for efficient processing of text. It offers tokenization, part-of-speech tagging, named entity recognition, dependency parsing, and pre-trained word vectors.\n",
    "\n",
    "**[Gensim](https://radimrehurek.com/gensim/)**: It is focused on topic modeling and document similarity analysis. It provides tools for training Word2Vec and other word embedding models, as well as topic modeling algorithms like Latent Semantic Analysis (LSA) and Latent Dirichlet Allocation (LDA).\n",
    "\n",
    "**[Transformers (Hugging Face)](https://huggingface.co/docs/transformers/index)**: This library by Hugging Face is built around pre-trained transformer models like BERT, GPT-2, and many others. It's widely used for tasks like text classification, named entity recognition, text generation, and more.\n",
    "\n",
    "**[TextBlob](https://textblob.readthedocs.io/en/dev/)**: TextBlob is built on top of NLTK and provides an easy-to-use API for common NLP tasks like part-of-speech tagging, noun phrase extraction, sentiment analysis, translation, and more.\n",
    "\n",
    "**[Stanford NLP](https://stanfordnlp.github.io/CoreNLP/)**: Stanford NLP is a suite of Java-based NLP tools, but there's also a Python wrapper. It offers various functionalities such as tokenization, part-of-speech tagging, named entity recognition, and more.\n",
    "\n",
    "**[Pattern](https://stackabuse.com/python-for-nlp-introduction-to-the-pattern-library/)**: it is a web mining module for Python that includes tools for NLP tasks like part-of-speech tagging, sentiment analysis, word inflection, and more.\n"
   ]
  },
  {
   "cell_type": "code",
   "execution_count": null,
   "metadata": {},
   "outputs": [],
   "source": []
  },
  {
   "cell_type": "code",
   "execution_count": null,
   "metadata": {},
   "outputs": [],
   "source": []
  }
 ],
 "metadata": {
  "kernelspec": {
   "display_name": "Python3",
   "language": "python",
   "name": "python3"
  },
  "language_info": {
   "codemirror_mode": {
    "name": "ipython",
    "version": 3
   },
   "file_extension": ".py",
   "mimetype": "text/x-python",
   "name": "python",
   "nbconvert_exporter": "python",
   "pygments_lexer": "ipython3",
   "version": "3.7.4"
  }
 },
 "nbformat": 4,
 "nbformat_minor": 2
}
