{
 "cells": [
  {
   "cell_type": "markdown",
   "metadata": {},
   "source": [
    "<li>Maximum likelihood estimation (MLE) is an approach to density estimation for a dataset by searching across \n",
    "    probability distributions and their parameters (it requires the dataset to be complete)</li>\n",
    "<li>EM is an approach for performing maximum likelihood estimation in the presence of latent variables (variables \n",
    "    that can be interrupted by observational data)</li>\n",
    "<ul>\n",
    "    <li>it does this by first estimating the values (E-step) for the latent variables, then optimizing the model \n",
    "        (M-step maximize the parameters of the model in the presence of data), then repeating these two steps \n",
    "        until convergence.</li>\n",
    "    <li>most commonly used for density estimation with missing data</li>\n",
    "</ul>\n",
    "    "
   ]
  },
  {
   "cell_type": "markdown",
   "metadata": {},
   "source": [
    "<b>Gaussian Mixture Model:</b>is a model that uses a combination of the gaussian (normal) probability distributions and requires the estimation of the mean and standard deviation parameters for each"
   ]
  },
  {
   "cell_type": "code",
   "execution_count": null,
   "metadata": {},
   "outputs": [],
   "source": []
  },
  {
   "cell_type": "code",
   "execution_count": null,
   "metadata": {},
   "outputs": [],
   "source": []
  }
 ],
 "metadata": {
  "kernelspec": {
   "display_name": "Python3",
   "language": "python",
   "name": "python3"
  },
  "language_info": {
   "codemirror_mode": {
    "name": "ipython",
    "version": 3
   },
   "file_extension": ".py",
   "mimetype": "text/x-python",
   "name": "python",
   "nbconvert_exporter": "python",
   "pygments_lexer": "ipython3",
   "version": "3.7.4"
  }
 },
 "nbformat": 4,
 "nbformat_minor": 2
}
